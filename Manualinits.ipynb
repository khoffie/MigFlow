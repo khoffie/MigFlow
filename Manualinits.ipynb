{
 "cells": [
  {
   "cell_type": "code",
   "execution_count": 1,
   "metadata": {},
   "outputs": [
    {
     "data": {
      "application/vnd.webio.node+json": {
       "children": [],
       "instanceArgs": {
        "namespace": "html",
        "tag": "div"
       },
       "nodeType": "DOM",
       "props": {},
       "type": "node"
      },
      "text/html": [
       "<div style=\"padding: 1em; background-color: #f8d6da; border: 1px solid #f5c6cb; font-weight: bold;\">\n",
       "<p>The WebIO Jupyter extension was not detected. See the\n",
       "<a href=\"https://juliagizmos.github.io/WebIO.jl/latest/providers/ijulia/\" target=\"_blank\">\n",
       "    WebIO Jupyter integration documentation\n",
       "</a>\n",
       "for more information.\n",
       "</div>\n"
      ],
      "text/plain": [
       "WebIO._IJuliaInit()"
      ]
     },
     "metadata": {
      "@webio": {
       "kernelId": "644c5250-80e3-4aaa-a146-a4ebfda5ac97"
      }
     },
     "output_type": "display_data"
    },
    {
     "name": "stderr",
     "output_type": "stream",
     "text": [
      "\u001b[91mERROR: \u001b[39msyntax: misplaced assignment statement in \"[a = [0.7, 2.3, 2.5, 0.1, -0.3, -0.3]; c = [2.5, 2.5, 2.5, 2.5, 2.5, 2.5]; d0 = [0.1, 0.1, 0.1, 0.1, 0.1, 0.1]; dscale = [0.3, 0.3, 0.5, 0.5, 0.3, 0.3]; logconst = -5; [1.5]; [5]]\" around /home/donkon/Documents/GermanMigration/gen_inits.jl:25\n",
      "Stacktrace:\n",
      " [1] top-level scope\n",
      "\u001b[90m   @\u001b[39m \u001b[90m\u001b[4mnone:1\u001b[24m\u001b[39m\n",
      "in expression starting at /home/donkon/Documents/GermanMigration/gen_inits.jl:15\n"
     ]
    }
   ],
   "source": [
    "using CSV, DataFrames, Turing, CategoricalArrays, StatsBase, StatsPlots, Random,\n",
    "    ReverseDiff, Revise, RCall, LinearAlgebra\n",
    "using OptimizationOptimJL, Distributions, ApproxFun, Serialization, Printf, DataFramesMeta,\n",
    "    StatProfilerHTML, StatsFuns, OptimizationBBO, Printf\n",
    "\n",
    "using Interact\n",
    "includet(\"debughelpers.jl\")\n",
    "includet(\"fithelpers.jl\")\n",
    "includet(\"gen_inits.jl\")\n",
    "includet(\"models.jl\")\n",
    "includet(\"fitmodel1.jl\")\n",
    "includet(\"fitmodel2.jl\")\n",
    "## includet(\"fitmodel3.jl\")\n"
   ]
  },
  {
   "cell_type": "code",
   "execution_count": 2,
   "metadata": {},
   "outputs": [
    {
     "data": {
      "text/plain": [
       "DynamicPPL.Model{typeof(migration3), (:flows, :allmoves, :fromdist, :todist, :frompop, :topop, :popgerm, :distance, :agegroup, :Nages, :xcoord, :ycoord, :density, :distpop, :Ndist, :meddist, :netactual, :ncoefs), (), (), Tuple{Vector{Int64}, Int64, Vector{Int64}, Vector{Int64}, Vector{Float64}, Vector{Float64}, Float64, Vector{Int64}, Vector{Int64}, Int64, Vector{Float64}, Vector{Float64}, Vector{Float64}, Vector{Float64}, Int64, Float64, Matrix{Int64}, Int64}, Tuple{}, DynamicPPL.DefaultContext}(migration3, (flows = [14, 7, 1, 7, 1, 4, 4, 1, 1, 1  …  2, 1, 2, 1, 8, 16, 7, 2, 1, 7], allmoves = 39519, fromdist = [1, 1, 1, 1, 1, 1, 1, 1, 1, 1  …  401, 401, 401, 401, 401, 401, 401, 401, 401, 401], todist = [2, 6, 6, 10, 22, 40, 53, 93, 136, 175  …  198, 207, 263, 342, 354, 371, 371, 388, 398, 400], frompop = [11.765, 17.061, 11.765, 11.765, 17.061, 17.061, 17.061, 8.839, 15.804, 8.839  …  23.222, 23.222, 19.435, 3.217, 27.031, 3.275, 23.222, 27.031, 23.222, 3.217], topop = [32.068, 43.409, 31.289, 19.326, 20.024, 36.424, 70.714, 27.689, 35.225, 6.861  …  32.939, 92.122, 29.483, 7.408, 84.752, 7.106, 46.668, 25.307, 21.461, 3.635], popgerm = 73113.48300000001, distance = [67, 155, 155, 87, 297, 171, 270, 353, 387, 633  …  280, 424, 205, 141, 42, 46, 46, 134, 45, 32], agegroup = [1, 4, 1, 1, 4, 4, 4, 2, 5, 2  …  5, 5, 4, 2, 6, 3, 5, 6, 5, 2], Nages = 6, xcoord = [528.433261098229, 573.476818944981, 613.547449708947, 563.872992487118, 508.04749994597, 610.569885064306, 499.629301893835, 613.057506787379, 550.480478322944, 591.848993396987  …  653.407356571871, 621.463855698618, 635.885251866982, 654.780391634883, 649.288208786497, 661.956728120807, 696.54633656184, 696.557406980613, 717.684373541762, 741.265705486952], ycoord = [6071.27882765283, 6022.16754668649, 5971.70266725396, 5993.2808341792, 5998.34329167577, 5939.60174347572, 6057.05937894047, 6000.58310193536, 5953.65095377617, 6011.53228621702  …  5670.21730887617, 5585.66002180894, 5621.7419354965, 5647.75464628749, 5586.07093548864, 5611.01113526517, 5643.98723860882, 5607.2853298256, 5628.02826035954, 5650.17725132279], density = [1560.35607262471, 2089.70080067425, 1009.93510434661, 1107.10298632431, 93.4391564029492, 155.236051841941, 79.4138821428914, 143.992189631161, 470.699284907791, 118.906198087785  …  86.7895297821183, 68.1176871763177, 133.06342948398, 102.092034606205, 125.907594310185, 104.702721528434, 101.798243462048, 70.7904108399201, 117.349109908036, 159.199873553327], distpop = [76.774, 220.031, 195.394, 70.602, 126.03, 181.368, 154.132, 189.618, 281.111, 122.743  …  68.234, 62.083, 103.065, 79.233, 54.023, 104.495, 80.577, 78.827, 97.004, 87.728], Ndist = 401, meddist = 292.63314791186315, netactual = [-173 779 … 20 81; -775 2373 … -64 -42; … ; 133 -238 … 22 -51; 37 -199 … -8 -82], ncoefs = 36), NamedTuple(), DynamicPPL.DefaultContext())"
      ]
     },
     "execution_count": 2,
     "metadata": {},
     "output_type": "execute_result"
    }
   ],
   "source": [
    "## Load the data and create the model object\n",
    "\n",
    "##Random.seed!(20240719)\n",
    "\n",
    "\n",
    "#optis = CSV.read(\"./fitted_models/opti\" * model * \".csv\", DataFrame)\n",
    "optis = nothing\n",
    "\n",
    "dt = load_flows()\n",
    "dt.fromdist = categorical(dt.fromdist)\n",
    "dt.todist = categorical(dt.todist)\n",
    "dt.agegroup = categorical(dt.agegroup)\n",
    "levels!(dt.agegroup,[\"below18\",\"18-25\",\"25-30\",\"30-50\",\"50-65\",\"above65\"])\n",
    "rename!(dt, Dict(:dist => :distance))\n",
    "\n",
    "## Create a districts file which has distcode, pop, density, xcoord, ycoord and save it in the data directory\n",
    "dists = CSV.read(\"./data/districts.csv\",DataFrame)\n",
    "dists.distcode = categorical(dists.distcode)\n",
    "\n",
    "distances = [norm([dists.xcoord[i]-dists.xcoord[j],dists.ycoord[i]-dists.ycoord[j]]) for i in 1:nrow(dists) , j in 1:nrow(dists) if i != j]\n",
    "meddist = median(distances)\n",
    "distances = nothing ## free the memory\n",
    "\n",
    "popgerm = sum(dists.pop)\n",
    "\n",
    "Nages = length(levels(dt.agegroup))\n",
    "Ndist = nrow(dists)\n",
    "\n",
    "netactual = calcnet(dt.flows,\n",
    "            levelcode.(dt.fromdist),\n",
    "            levelcode.(dt.todist),\n",
    "            levelcode.(dt.agegroup),\n",
    "            Nages,\n",
    "            Ndist)\n",
    "Ncoefs = 36\n",
    "\n",
    "dtsmall = dt[rand(Bernoulli(.02),nrow(dt)),:]\n",
    "dtsmall = dtsmall[dtsmall.flows .> 0.0,:]\n",
    "\n",
    "model3 = migration3(dtsmall.flows,sum(dtsmall.flows),levelcode.(dtsmall.fromdist),levelcode.(dtsmall.todist),\n",
    "                        dtsmall.frompop,dtsmall.topop, popgerm, dtsmall.distance, levelcode.(dtsmall.agegroup),Nages,\n",
    "                        dists.xcoord,dists.ycoord,dists.density,dists.pop,Ndist,meddist,netactual,Ncoefs)\n",
    "\n"
   ]
  },
  {
   "cell_type": "markdown",
   "metadata": {},
   "source": [
    "# Find Inits for model3\n",
    "\n",
    "The goal will be to load in the data, and find the initial conditions for model 3 that are a good starting point in terms of the parameters\n",
    "* a\n",
    "* c\n",
    "* d0\n",
    "* dscale\n",
    "* logisticconst"
   ]
  },
  {
   "cell_type": "code",
   "execution_count": 9,
   "metadata": {
    "vscode": {
     "languageId": "plaintext"
    }
   },
   "outputs": [
    {
     "name": "stdout",
     "output_type": "stream",
     "text": [
      "0.991"
     ]
    },
    {
     "ename": "LoadError",
     "evalue": "MethodError: no method matching fill(::Float64, ::Vector{Any})\n\n\u001b[0mClosest candidates are:\n\u001b[0m  fill(::Any, \u001b[91m::Tuple{}\u001b[39m)\n\u001b[0m\u001b[90m   @\u001b[39m \u001b[90mBase\u001b[39m \u001b[90m\u001b[4marray.jl:585\u001b[24m\u001b[39m\n\u001b[0m  fill(::Any, \u001b[91m::Tuple{Union{Infinities.InfiniteCardinal{0}, Infinities.Infinity}}\u001b[39m)\n\u001b[0m\u001b[90m   @\u001b[39m \u001b[35mInfiniteArrays\u001b[39m \u001b[90m~/.julia/packages/InfiniteArrays/yaXl7/src/\u001b[39m\u001b[90m\u001b[4minfarrays.jl:77\u001b[24m\u001b[39m\n\u001b[0m  fill(::Any, \u001b[91m::Tuple{Union{Infinities.InfiniteCardinal{0}, Infinities.Infinity}, Union{Infinities.InfiniteCardinal{0}, Infinities.Infinity}}\u001b[39m)\n\u001b[0m\u001b[90m   @\u001b[39m \u001b[35mInfiniteArrays\u001b[39m \u001b[90m~/.julia/packages/InfiniteArrays/yaXl7/src/\u001b[39m\u001b[90m\u001b[4minfarrays.jl:80\u001b[24m\u001b[39m\n\u001b[0m  ...\n",
     "output_type": "error",
     "traceback": [
      "MethodError: no method matching fill(::Float64, ::Vector{Any})\n\n\u001b[0mClosest candidates are:\n\u001b[0m  fill(::Any, \u001b[91m::Tuple{}\u001b[39m)\n\u001b[0m\u001b[90m   @\u001b[39m \u001b[90mBase\u001b[39m \u001b[90m\u001b[4marray.jl:585\u001b[24m\u001b[39m\n\u001b[0m  fill(::Any, \u001b[91m::Tuple{Union{Infinities.InfiniteCardinal{0}, Infinities.Infinity}}\u001b[39m)\n\u001b[0m\u001b[90m   @\u001b[39m \u001b[35mInfiniteArrays\u001b[39m \u001b[90m~/.julia/packages/InfiniteArrays/yaXl7/src/\u001b[39m\u001b[90m\u001b[4minfarrays.jl:77\u001b[24m\u001b[39m\n\u001b[0m  fill(::Any, \u001b[91m::Tuple{Union{Infinities.InfiniteCardinal{0}, Infinities.Infinity}, Union{Infinities.InfiniteCardinal{0}, Infinities.Infinity}}\u001b[39m)\n\u001b[0m\u001b[90m   @\u001b[39m \u001b[35mInfiniteArrays\u001b[39m \u001b[90m~/.julia/packages/InfiniteArrays/yaXl7/src/\u001b[39m\u001b[90m\u001b[4minfarrays.jl:80\u001b[24m\u001b[39m\n\u001b[0m  ...\n",
      "",
      "Stacktrace:",
      " [1] (::var\"#137#144\")(a1::Float64, a2::Float64, a3::Float64, a4::Float64, a5::Float64, a6::Float64, c::Float64, d0::Float64, dscale::Float64, neterr::Float64, logisticconst::Float64)",
      "   @ Main ./In[9]:23",
      " [2] map(::var\"#137#144\", ::Widget{:slider, Float64}, ::Widget{:slider, Float64}, ::Vararg{Widget{:slider, Float64}}; ignore_equal_values::Bool, priority::Int64)",
      "   @ Observables ~/.julia/packages/Observables/YdEbO/src/Observables.jl:570",
      " [3] map(::var\"#137#144\", ::Widget{:slider, Float64}, ::Widget{:slider, Float64}, ::Widget{:slider, Float64}, ::Widget{:slider, Float64}, ::Vararg{Widget{:slider, Float64}})",
      "   @ Observables ~/.julia/packages/Observables/YdEbO/src/Observables.jl:568",
      " [4] macro expansion",
      "   @ ~/.julia/packages/Widgets/RFAvq/src/manipulate.jl:25 [inlined]",
      " [5] top-level scope",
      "   @ In[9]:3"
     ]
    }
   ],
   "source": [
    "\n",
    "\n",
    "@manipulate for a1 = -10.0:.1:10.0,\n",
    "                a2 = -10.0:.1:10.0,\n",
    "                a3 = -10.0:.1:10.0,\n",
    "                a4 = -10.0:.1:10.0,\n",
    "                a5 = -10.0:.1:10.0,\n",
    "                a6 = -10.0:.1:10.0,\n",
    "                c = 0.01:.1:10.0,\n",
    "                d0 = 0.001:.01:2.0,\n",
    "                dscale = 0.05:.05:2.5,\n",
    "                neterr = 0.1:.1:2.0,\n",
    "                logisticconst = -10:.1:10\n",
    "print(d0)\n",
    "    as = [.7, 2.3, 2.5, .1, -.3, -.3]\n",
    "   ##as = [-10, -10, -10, -10, -10, -.3] \n",
    "    cs = [2.5, 2.5, 2.5, 2.5, 2.5, 2.5]\n",
    "    d0s = [.1, .1, .1, .1, .1, .1]\n",
    "    dscales = [.3, .3, .5, .5, .3, .3]\n",
    "    logconst = -5\n",
    "   ##as = fill(-2, Nages)\n",
    "   logconst = 4.5\n",
    "    vals = [as;\n",
    "            cs;\n",
    "            d0s;   \n",
    "            dscales;\n",
    "            [neterr, logconst];\n",
    "            fill(0.0,Nages); #kd\n",
    "            fill(0.0,Nages*Ncoefs)\n",
    "            ]\n",
    "    names = [[\"a[$i]\" for i in 1:Nages];\n",
    "             [\"c[$i]\" for i in 1:Nages];\n",
    "             [\"d0[$i]\" for i in 1:Nages];\n",
    "             [\"dscale[$i]\" for i in 1:Nages];\n",
    "             [\"neterr\",\"logisticconst\"];\n",
    "             [\"kd[$i]\" for i in 1:Nages];\n",
    "             [\"desirecoefs[$i]\" for i in 1:(Ncoefs*Nages)];\n",
    "             ]\n",
    "    \n",
    "    (preds,netflows) = generated_quantities(model3,vals,names)\n",
    "    #@show preds\n",
    "    scatter(dtsmall.distance, log.(dtsmall.flows ./ preds),group=dtsmall.agegroup,alpha=0.2,ylim=(-4,4))\n",
    "end\n"
   ]
  },
  {
   "cell_type": "code",
   "execution_count": 4,
   "metadata": {
    "vscode": {
     "languageId": "plaintext"
    }
   },
   "outputs": [
    {
     "ename": "LoadError",
     "evalue": "MethodError: no method matching (::Colon)(::Int64, ::Vector{Any})\n\n\u001b[0mClosest candidates are:\n\u001b[0m  (::Colon)(::Real, ::Any, \u001b[91m::Union{Infinities.InfiniteCardinal{0}, Infinities.Infinity}\u001b[39m)\n\u001b[0m\u001b[90m   @\u001b[39m \u001b[35mInfiniteArrays\u001b[39m \u001b[90m~/.julia/packages/InfiniteArrays/yaXl7/src/\u001b[39m\u001b[90m\u001b[4minfrange.jl:12\u001b[24m\u001b[39m\n\u001b[0m  (::Colon)(::A, ::Any, \u001b[91m::C\u001b[39m) where {A<:Real, C<:Unitful.Quantity}\n\u001b[0m\u001b[90m   @\u001b[39m \u001b[32mUnitful\u001b[39m \u001b[90m~/.julia/packages/Unitful/GYzMo/src/\u001b[39m\u001b[90m\u001b[4mrange.jl:86\u001b[24m\u001b[39m\n\u001b[0m  (::Colon)(::T, ::Any, \u001b[91m::T\u001b[39m) where T<:Real\n\u001b[0m\u001b[90m   @\u001b[39m \u001b[90mBase\u001b[39m \u001b[90m\u001b[4mrange.jl:50\u001b[24m\u001b[39m\n\u001b[0m  ...\n",
     "output_type": "error",
     "traceback": [
      "MethodError: no method matching (::Colon)(::Int64, ::Vector{Any})\n\n\u001b[0mClosest candidates are:\n\u001b[0m  (::Colon)(::Real, ::Any, \u001b[91m::Union{Infinities.InfiniteCardinal{0}, Infinities.Infinity}\u001b[39m)\n\u001b[0m\u001b[90m   @\u001b[39m \u001b[35mInfiniteArrays\u001b[39m \u001b[90m~/.julia/packages/InfiniteArrays/yaXl7/src/\u001b[39m\u001b[90m\u001b[4minfrange.jl:12\u001b[24m\u001b[39m\n\u001b[0m  (::Colon)(::A, ::Any, \u001b[91m::C\u001b[39m) where {A<:Real, C<:Unitful.Quantity}\n\u001b[0m\u001b[90m   @\u001b[39m \u001b[32mUnitful\u001b[39m \u001b[90m~/.julia/packages/Unitful/GYzMo/src/\u001b[39m\u001b[90m\u001b[4mrange.jl:86\u001b[24m\u001b[39m\n\u001b[0m  (::Colon)(::T, ::Any, \u001b[91m::T\u001b[39m) where T<:Real\n\u001b[0m\u001b[90m   @\u001b[39m \u001b[90mBase\u001b[39m \u001b[90m\u001b[4mrange.jl:50\u001b[24m\u001b[39m\n\u001b[0m  ...\n",
      "",
      "Stacktrace:",
      " [1] top-level scope",
      "   @ In[4]:10"
     ]
    }
   ],
   "source": [
    "Nages = \n",
    "        vals = [[a1,a2,a3,a4,a5,a6];\n",
    "            fill(c,Nages);\n",
    "            fill(d0,Nages);\n",
    "            fill(dscale,Nages);\n",
    "            [neterr, logisticconst];\n",
    "            fill(0.0,Nages); #kd\n",
    "            fill(0.0,Nages*Ncoefs)\n",
    "            ]\n",
    "    names = [[\"a[$i]\" for i in 1:Nages];\n",
    "             [\"c[$i]\" for i in 1:Nages];\n",
    "             [\"d0[$i]\" for i in 1:Nages];\n",
    "             [\"dscale[$i]\" for i in 1:Nages];\n",
    "             [\"neterr\",\"logisticconst\"];\n",
    "             [\"kd[$i]\" for i in 1:Nages];\n",
    "             [\"desirecoefs[$i]\" for i in 1:(Ncoefs*Nages)];\n",
    "             ]\n",
    "    \n",
    "    (preds,netflows) = generated_quantities(model3,vals,names)\n",
    "    #@show preds\n",
    "    scatter(dtsmall.distance, log.(dtsmall.flows ./ preds),group=dtsmall.agegroup,alpha=0.2,ylim=(-4,4))\n",
    "end\n"
   ]
  },
  {
   "cell_type": "code",
   "execution_count": null,
   "metadata": {},
   "outputs": [],
   "source": []
  }
 ],
 "metadata": {
  "@webio": {
   "lastCommId": "ecfc809d-ea3e-4f4f-bf04-0b38d1ff21bc",
   "lastKernelId": "e3a22faf-d444-4aed-8c85-4e4c54c13db2"
  },
  "kernelspec": {
   "display_name": "Julia 1.10.4",
   "language": "julia",
   "name": "julia-1.10"
  },
  "language_info": {
   "file_extension": ".jl",
   "mimetype": "application/julia",
   "name": "julia",
   "version": "1.10.4"
  }
 },
 "nbformat": 4,
 "nbformat_minor": 4
}
