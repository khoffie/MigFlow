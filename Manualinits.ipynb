{
 "cells": [
  {
   "cell_type": "code",
   "execution_count": null,
   "metadata": {},
   "outputs": [],
   "source": [
    "using CSV, DataFrames, Turing, CategoricalArrays, StatsBase, StatsPlots, Random,\n",
    "    ReverseDiff, Revise, RCall, LinearAlgebra\n",
    "using OptimizationOptimJL, Distributions, ApproxFun, Serialization, Printf, DataFramesMeta,\n",
    "    StatProfilerHTML, StatsFuns, OptimizationBBO, Printf\n",
    "\n",
    "using Interact\n",
    "includet(\"debughelpers.jl\")\n",
    "includet(\"fithelpers.jl\")\n",
    "includet(\"gen_inits.jl\")\n",
    "includet(\"models.jl\")\n",
    "includet(\"fitmodel1.jl\")\n",
    "includet(\"fitmodel2.jl\")\n",
    "includet(\"fitmodel3.jl\")\n"
   ]
  },
  {
   "cell_type": "code",
   "execution_count": null,
   "metadata": {},
   "outputs": [],
   "source": [
    "## Load the data and create the model object\n",
    "\n",
    "##Random.seed!(20240719)\n",
    "\n",
    "\n",
    "#optis = CSV.read(\"./fitted_models/opti\" * model * \".csv\", DataFrame)\n",
    "optis = nothing\n",
    "\n",
    "dt = load_flows()\n",
    "dt.fromdist = categorical(dt.fromdist)\n",
    "dt.todist = categorical(dt.todist)\n",
    "dt.agegroup = categorical(dt.agegroup)\n",
    "levels!(dt.agegroup,[\"below18\",\"18-25\",\"25-30\",\"30-50\",\"50-65\",\"above65\"])\n",
    "rename!(dt, Dict(:dist => :distance))\n",
    "\n",
    "## Create a districts file which has distcode, pop, density, xcoord, ycoord and save it in the data directory\n",
    "dists = CSV.read(\"./data/districts.csv\",DataFrame)\n",
    "dists.distcode = categorical(dists.distcode)\n",
    "\n",
    "distances = [norm([dists.xcoord[i]-dists.xcoord[j],dists.ycoord[i]-dists.ycoord[j]]) for i in 1:nrow(dists) , j in 1:nrow(dists) if i != j]\n",
    "meddist = median(distances)\n",
    "distances = nothing ## free the memory\n",
    "\n",
    "popgerm = sum(dists.pop)\n",
    "\n",
    "Nages = length(levels(dt.agegroup))\n",
    "\n",
    "netactual = calcnet(dt.flows,\n",
    "            levelcode.(dt.fromdist),\n",
    "            levelcode.(dt.todist),\n",
    "            levelcode.(dt.agegroup),\n",
    "            Nages,\n",
    "            Ndist)\n",
    "Ncoefs = 36\n",
    "\n",
    "dtsmall = dt[rand(Bernoulli(.1),nrow(dt)),:]\n",
    "\n",
    "model3 = migration3(dtsmall.flows,sum(dtsmall.flows),levelcode.(dtsmall.fromdist),levelcode.(dtsmall.todist),\n",
    "                        dtsmall.frompop,dtsmall.topop, popgerm, dtsmall.distance, levelcode.(dtsmall.agegroup),Nages\n",
    "                        dtsmall.xcoord,dtsmall.ycoord,dists.density,dists.pop,nrow(dists),meddist,netactual,Ncoefs)\n",
    "\n"
   ]
  },
  {
   "cell_type": "markdown",
   "metadata": {},
   "source": [
    "# Find Inits for model3\n",
    "\n",
    "The goal will be to load in the data, and find the initial conditions for model 3 that are a good starting point in terms of the parameters\n",
    "* a\n",
    "* c\n",
    "* d0\n",
    "* dscale\n",
    "* logisticconst"
   ]
  },
  {
   "cell_type": "markdown",
   "metadata": {},
   "source": [
    "\n",
    "\n",
    "@manipulate for a = -10.0:.1:10.0,\n",
    "                c = 0.01:.1:10.0,\n",
    "                d0 = 0.001:.01,2.0,\n",
    "                dscale = 0.05:.05:2.5,\n",
    "                neterr = 0.1:.1:2.0,\n",
    "                logisticconst = -10:.1:10\n",
    "    vals = [fill(a,Nages);\n",
    "            fill(c,Nages);\n",
    "            fill(d0,Nages);\n",
    "            fill(dscale,Nages);\n",
    "            [neterr, logisticconst];\n",
    "            fill(0.0,Nages); #kd\n",
    "            fill(0.0,Nages*Ncoefs)\n",
    "            ]\n",
    "    names = [[\"a[$i]\" for i in 1:Nages];\n",
    "             [\"c[$i]\" for i in 1:Nages];\n",
    "             [\"d0[$i]\" for i in 1:Nages];\n",
    "             [\"dscale[$i]\" for i in 1:Nages];\n",
    "             [\"neterr\",\"logisticconst\"];\n",
    "             [\"kd[$i]\" for i in 1:Nages];\n",
    "             [\"desirecoefs[$i]\" for i in 1:(Ncoefs*Nages)];\n",
    "             ]\n",
    "    (preds,netflows) = generated_quantities(model3,vals,)\n",
    "    @df dtsmall plot(:distance, log.(:flows ./ preds))\n",
    "end\n"
   ]
  }
 ],
 "metadata": {
  "language_info": {
   "name": "python"
  }
 },
 "nbformat": 4,
 "nbformat_minor": 2
}
